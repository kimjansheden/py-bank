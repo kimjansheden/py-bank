{
 "cells": [
  {
   "cell_type": "markdown",
   "source": [
    "### Banken och dess funktioner"
   ],
   "metadata": {
    "collapsed": false
   }
  },
  {
   "cell_type": "code",
   "execution_count": 1,
   "outputs": [],
   "source": [
    "import json\n",
    "from Bank import bank, Customer"
   ],
   "metadata": {
    "collapsed": false
   }
  },
  {
   "cell_type": "code",
   "execution_count": 2,
   "outputs": [],
   "source": [
    "# Recreates the customers and the accounts of the bank instance(s) that was saved at the end of the application.\n",
    "bank.repopulate(\"bank.json\")"
   ],
   "metadata": {
    "collapsed": false
   }
  },
  {
   "cell_type": "code",
   "execution_count": 3,
   "outputs": [
    {
     "data": {
      "text/plain": "[kalle, lasse, olaus, coolguy57, ola, bengan]"
     },
     "execution_count": 3,
     "metadata": {},
     "output_type": "execute_result"
    }
   ],
   "source": [
    "bank.get_customers()"
   ],
   "metadata": {
    "collapsed": false
   }
  },
  {
   "cell_type": "code",
   "execution_count": 4,
   "outputs": [
    {
     "name": "stdout",
     "output_type": "stream",
     "text": [
      "Customer successfully added.\n"
     ]
    }
   ],
   "source": [
    "bank.add_customer(\"tor\", \"tor\")"
   ],
   "metadata": {
    "collapsed": false
   }
  },
  {
   "cell_type": "code",
   "execution_count": 5,
   "outputs": [
    {
     "data": {
      "text/plain": "[kalle, lasse, olaus, coolguy57, ola, bengan, tor]"
     },
     "execution_count": 5,
     "metadata": {},
     "output_type": "execute_result"
    }
   ],
   "source": [
    "bank.get_customers()"
   ],
   "metadata": {
    "collapsed": false
   }
  },
  {
   "cell_type": "code",
   "execution_count": 6,
   "outputs": [
    {
     "name": "stdout",
     "output_type": "stream",
     "text": [
      "kalle\n"
     ]
    }
   ],
   "source": [
    "print(bank.get_customer(\"kalle\", return_customer=True))"
   ],
   "metadata": {
    "collapsed": false
   }
  },
  {
   "cell_type": "code",
   "execution_count": 7,
   "outputs": [
    {
     "data": {
      "text/plain": "'kalle123'"
     },
     "execution_count": 7,
     "metadata": {},
     "output_type": "execute_result"
    }
   ],
   "source": [
    "cust: Customer = bank.get_customer(\"kalle\", return_customer=True)\n",
    "cust.password"
   ],
   "metadata": {
    "collapsed": false
   }
  },
  {
   "cell_type": "code",
   "execution_count": 8,
   "outputs": [
    {
     "name": "stdout",
     "output_type": "stream",
     "text": [
      "Password changed successfully.\n"
     ]
    },
    {
     "data": {
      "text/plain": "True"
     },
     "execution_count": 8,
     "metadata": {},
     "output_type": "execute_result"
    }
   ],
   "source": [
    "bank.change_customer_password(\"kalle\", \"kalle123456\")"
   ],
   "metadata": {
    "collapsed": false
   }
  },
  {
   "cell_type": "code",
   "execution_count": 9,
   "outputs": [
    {
     "data": {
      "text/plain": "'kalle123456'"
     },
     "execution_count": 9,
     "metadata": {},
     "output_type": "execute_result"
    }
   ],
   "source": [
    "cust.password"
   ],
   "metadata": {
    "collapsed": false
   }
  },
  {
   "cell_type": "code",
   "execution_count": 10,
   "outputs": [
    {
     "name": "stdout",
     "output_type": "stream",
     "text": [
      "kalles konton: [1, 4, 11, 12, 13]\n",
      "1 kalle 0\n",
      "2 lasse 0\n",
      "3 None 0\n",
      "4 kalle 10000\n",
      "5 lasse 0\n",
      "6 None 0\n",
      "8 None 0\n",
      "9 olaus 0\n",
      "11 kalle 0\n",
      "12 kalle 0\n",
      "13 kalle 0\n",
      "14 ola 0\n",
      "15 olaus 0\n",
      "Login successful.\n",
      "kalle äger konto 1 och har 0 kr på sitt konto.\n",
      "Could not get account 2. No such account belongs to you.\n"
     ]
    }
   ],
   "source": [
    "print(bank.get_accounts(\"kalle\"))\n",
    "bank.show_all_accounts()\n",
    "bank.login(\"kalle\", \"kalle123456\")\n",
    "bank.get_account(1)\n",
    "bank.get_account(2) # Kan inte se ett konto man inte äger."
   ],
   "metadata": {
    "collapsed": false
   }
  },
  {
   "cell_type": "code",
   "execution_count": 11,
   "outputs": [
    {
     "name": "stdout",
     "output_type": "stream",
     "text": [
      "1000 kr successfully deposited to account 1.\n",
      "kalle äger konto 1 och har 1000 kr på sitt konto.\n"
     ]
    }
   ],
   "source": [
    "bank.deposit(1, 1000)\n",
    "bank.get_account(1)"
   ],
   "metadata": {
    "collapsed": false
   }
  },
  {
   "cell_type": "code",
   "execution_count": 12,
   "outputs": [
    {
     "name": "stdout",
     "output_type": "stream",
     "text": [
      "1 kalle 1000\n",
      "2 lasse 0\n",
      "3 None 0\n",
      "4 kalle 10000\n",
      "5 lasse 0\n",
      "6 None 0\n",
      "8 None 0\n",
      "9 olaus 0\n",
      "11 kalle 0\n",
      "12 kalle 0\n",
      "13 kalle 0\n",
      "14 ola 0\n",
      "15 olaus 0\n"
     ]
    }
   ],
   "source": [
    "bank.show_all_accounts()"
   ],
   "metadata": {
    "collapsed": false
   }
  },
  {
   "cell_type": "code",
   "execution_count": 13,
   "outputs": [
    {
     "name": "stdout",
     "output_type": "stream",
     "text": [
      "Account successfully added.\n",
      "Account successfully added.\n",
      "Account successfully added.\n"
     ]
    }
   ],
   "source": [
    "bank.add_account()\n",
    "bank.add_account()\n",
    "bank.add_account()"
   ],
   "metadata": {
    "collapsed": false
   }
  },
  {
   "cell_type": "code",
   "execution_count": 14,
   "outputs": [
    {
     "name": "stdout",
     "output_type": "stream",
     "text": [
      "1 kalle 1000\n",
      "2 lasse 0\n",
      "3 None 0\n",
      "4 kalle 10000\n",
      "5 lasse 0\n",
      "6 None 0\n",
      "8 None 0\n",
      "9 olaus 0\n",
      "11 kalle 0\n",
      "12 kalle 0\n",
      "13 kalle 0\n",
      "14 ola 0\n",
      "15 olaus 0\n",
      "24 kalle 0\n",
      "25 kalle 0\n",
      "26 kalle 0\n"
     ]
    }
   ],
   "source": [
    "bank.show_all_accounts()"
   ],
   "metadata": {
    "collapsed": false
   }
  },
  {
   "cell_type": "code",
   "execution_count": 15,
   "outputs": [
    {
     "name": "stdout",
     "output_type": "stream",
     "text": [
      "kalles konton: [1, 4, 11, 12, 13, 24, 25, 26]\n",
      "kalle äger konto 4 och har 10000 kr på sitt konto.\n",
      "5000 kr successfully deposited to account 4.\n"
     ]
    }
   ],
   "source": [
    "print(bank.get_accounts()) # en lista på inloggad kunds konton (kontonr.)\n",
    "bank.get_account(4)\n",
    "bank.deposit(4, 5000)"
   ],
   "metadata": {
    "collapsed": false
   }
  },
  {
   "cell_type": "code",
   "execution_count": 16,
   "outputs": [
    {
     "name": "stdout",
     "output_type": "stream",
     "text": [
      "kalle äger konto 4 och har 15000 kr på sitt konto.\n"
     ]
    }
   ],
   "source": [
    "bank.get_account(4)"
   ],
   "metadata": {
    "collapsed": false
   }
  },
  {
   "cell_type": "code",
   "execution_count": 17,
   "outputs": [
    {
     "name": "stdout",
     "output_type": "stream",
     "text": [
      "kalles konton: [1, 4, 11, 12, 13, 24, 25, 26]\n",
      "lasses konton: [2, 5]\n",
      "bengans konton: []\n",
      "olas konton: [14]\n",
      "No such username: jonas\n"
     ]
    }
   ],
   "source": [
    "print(bank.get_accounts(\"kalle\"))\n",
    "print(bank.get_accounts(\"lasse\"))\n",
    "print(bank.get_accounts(\"bengan\"))\n",
    "print(bank.get_accounts(\"ola\"))\n",
    "print(bank.get_accounts(\"jonas\")) # Finns inte"
   ],
   "metadata": {
    "collapsed": false
   }
  },
  {
   "cell_type": "code",
   "execution_count": 18,
   "outputs": [
    {
     "name": "stdout",
     "output_type": "stream",
     "text": [
      "Account 11 is now owned by lasse.\n",
      "Account 6 is now owned by bengan.\n",
      "Account successfully added.\n"
     ]
    }
   ],
   "source": [
    "bank.change_owner_of(11, \"lasse\")\n",
    "bank.change_owner_of(6, \"bengan\")\n",
    "bank.add_account(\"ola\")"
   ],
   "metadata": {
    "collapsed": false
   }
  },
  {
   "cell_type": "code",
   "execution_count": 19,
   "outputs": [
    {
     "name": "stdout",
     "output_type": "stream",
     "text": [
      "kalles konton: [1, 4, 12, 13, 24, 25, 26]\n",
      "lasses konton: [2, 5, 11]\n",
      "bengans konton: [6]\n",
      "olas konton: [14, 27]\n",
      "No such username: jonas\n"
     ]
    }
   ],
   "source": [
    "print(bank.get_accounts(\"kalle\"))\n",
    "print(bank.get_accounts(\"lasse\"))\n",
    "print(bank.get_accounts(\"bengan\"))\n",
    "print(bank.get_accounts(\"ola\"))\n",
    "print(bank.get_accounts(\"jonas\"))"
   ],
   "metadata": {
    "collapsed": false
   }
  },
  {
   "cell_type": "code",
   "execution_count": 20,
   "outputs": [
    {
     "name": "stdout",
     "output_type": "stream",
     "text": [
      "{'logged_in_customer': 'kalle'}\n",
      "Logout successful\n",
      "{}\n",
      "Login successful.\n",
      "{'logged_in_customer': 'bengan'}\n",
      "Account successfully added.\n"
     ]
    }
   ],
   "source": [
    "print(bank.logged_in_customer)\n",
    "bank.logout()\n",
    "print (bank.logged_in_customer)\n",
    "bank.login(\"bengan\", \"bengtsson\")\n",
    "print (bank.logged_in_customer)\n",
    "bank.add_account()"
   ],
   "metadata": {
    "collapsed": false
   }
  },
  {
   "cell_type": "code",
   "execution_count": 21,
   "outputs": [
    {
     "name": "stdout",
     "output_type": "stream",
     "text": [
      "kalles konton: [1, 4, 12, 13, 24, 25, 26]\n",
      "lasses konton: [2, 5, 11]\n",
      "bengans konton: [6, 28]\n",
      "olas konton: [14, 27]\n",
      "No such username: jonas\n"
     ]
    }
   ],
   "source": [
    "print(bank.get_accounts(\"kalle\"))\n",
    "print(bank.get_accounts(\"lasse\"))\n",
    "print(bank.get_accounts(\"bengan\"))\n",
    "print(bank.get_accounts(\"ola\"))\n",
    "print(bank.get_accounts(\"jonas\"))"
   ],
   "metadata": {
    "collapsed": false
   }
  },
  {
   "cell_type": "code",
   "execution_count": 22,
   "outputs": [
    {
     "name": "stdout",
     "output_type": "stream",
     "text": [
      "Wrong password.\n"
     ]
    }
   ],
   "source": [
    "bank.login(\"kalle\", \"kalle\") # Kan inte logga in med fel lösenord."
   ],
   "metadata": {
    "collapsed": false
   }
  },
  {
   "cell_type": "code",
   "execution_count": 23,
   "outputs": [
    {
     "name": "stdout",
     "output_type": "stream",
     "text": [
      "No such username: bengann\n"
     ]
    }
   ],
   "source": [
    "bank.login(\"bengann\", \"bengtsson\") # Kan inte logga in med fel användarnamn"
   ],
   "metadata": {
    "collapsed": false
   }
  },
  {
   "cell_type": "code",
   "execution_count": 24,
   "outputs": [
    {
     "name": "stdout",
     "output_type": "stream",
     "text": [
      "You are already logged in.\n"
     ]
    }
   ],
   "source": [
    "bank.login (\"bengan\", \"bengtsson\") # Kan inte logga in när man redan är inloggad."
   ],
   "metadata": {
    "collapsed": false
   }
  },
  {
   "cell_type": "code",
   "execution_count": 25,
   "outputs": [
    {
     "data": {
      "text/plain": "[kalle, lasse, olaus, coolguy57, ola, bengan, tor]"
     },
     "execution_count": 25,
     "metadata": {},
     "output_type": "execute_result"
    }
   ],
   "source": [
    "bank.get_customers()"
   ],
   "metadata": {
    "collapsed": false
   }
  },
  {
   "cell_type": "code",
   "execution_count": 26,
   "outputs": [],
   "source": [
    "bank.remove_customer(\"bengan\")"
   ],
   "metadata": {
    "collapsed": false
   }
  },
  {
   "cell_type": "code",
   "execution_count": 27,
   "outputs": [
    {
     "data": {
      "text/plain": "[kalle, lasse, olaus, coolguy57, ola, tor]"
     },
     "execution_count": 27,
     "metadata": {},
     "output_type": "execute_result"
    }
   ],
   "source": [
    "bank.get_customers()"
   ],
   "metadata": {
    "collapsed": false
   }
  },
  {
   "cell_type": "code",
   "execution_count": 28,
   "outputs": [
    {
     "name": "stdout",
     "output_type": "stream",
     "text": [
      "kalles konton: [1, 4, 12, 13, 24, 25, 26]\n",
      "lasses konton: [2, 5, 11]\n",
      "No such username: bengan\n",
      "olas konton: [14, 27]\n",
      "No such username: jonas\n"
     ]
    }
   ],
   "source": [
    "print(bank.get_accounts(\"kalle\"))\n",
    "print(bank.get_accounts(\"lasse\"))\n",
    "print(bank.get_accounts(\"bengan\"))\n",
    "print(bank.get_accounts(\"ola\"))\n",
    "print(bank.get_accounts(\"jonas\"))"
   ],
   "metadata": {
    "collapsed": false
   }
  },
  {
   "cell_type": "code",
   "execution_count": 29,
   "outputs": [
    {
     "name": "stdout",
     "output_type": "stream",
     "text": [
      "Login successful.\n"
     ]
    }
   ],
   "source": [
    "bank.login(\"ola\", \"ola123\")"
   ],
   "metadata": {
    "collapsed": false
   }
  },
  {
   "cell_type": "code",
   "execution_count": 30,
   "outputs": [
    {
     "data": {
      "text/plain": "'olas konton: [14, 27]'"
     },
     "execution_count": 30,
     "metadata": {},
     "output_type": "execute_result"
    }
   ],
   "source": [
    "bank.get_accounts()"
   ],
   "metadata": {
    "collapsed": false
   }
  },
  {
   "cell_type": "code",
   "execution_count": 31,
   "outputs": [
    {
     "name": "stdout",
     "output_type": "stream",
     "text": [
      "Removal of account 5 failed. No such account belongs to you.\n"
     ]
    }
   ],
   "source": [
    "bank.remove_account(5) # Kan inte ta bort ett konto du inte äger."
   ],
   "metadata": {
    "collapsed": false
   }
  },
  {
   "cell_type": "code",
   "execution_count": 32,
   "outputs": [
    {
     "name": "stdout",
     "output_type": "stream",
     "text": [
      "Account 27 removed successfully.\n"
     ]
    }
   ],
   "source": [
    "bank.remove_account(27)"
   ],
   "metadata": {
    "collapsed": false
   }
  },
  {
   "cell_type": "code",
   "execution_count": 33,
   "outputs": [
    {
     "data": {
      "text/plain": "'olas konton: [14]'"
     },
     "execution_count": 33,
     "metadata": {},
     "output_type": "execute_result"
    }
   ],
   "source": [
    "bank.get_accounts()"
   ],
   "metadata": {
    "collapsed": false
   }
  },
  {
   "cell_type": "code",
   "execution_count": 34,
   "outputs": [
    {
     "name": "stdout",
     "output_type": "stream",
     "text": [
      "Logout successful\n"
     ]
    }
   ],
   "source": [
    "bank.logout()"
   ],
   "metadata": {
    "collapsed": false
   }
  },
  {
   "cell_type": "code",
   "execution_count": 35,
   "outputs": [
    {
     "name": "stdout",
     "output_type": "stream",
     "text": [
      "1 kalle 1000\n",
      "2 lasse 0\n",
      "3 None 0\n",
      "4 kalle 15000\n",
      "5 lasse 0\n",
      "6 None 0\n",
      "8 None 0\n",
      "9 olaus 0\n",
      "11 lasse 0\n",
      "12 kalle 0\n",
      "13 kalle 0\n",
      "14 ola 0\n",
      "15 olaus 0\n",
      "24 kalle 0\n",
      "25 kalle 0\n",
      "26 kalle 0\n",
      "28 None 0\n"
     ]
    }
   ],
   "source": [
    "bank.show_all_accounts()"
   ],
   "metadata": {
    "collapsed": false
   }
  },
  {
   "cell_type": "code",
   "execution_count": 36,
   "outputs": [
    {
     "name": "stdout",
     "output_type": "stream",
     "text": [
      "Login successful.\n"
     ]
    }
   ],
   "source": [
    "bank.login(\"kalle\", \"kalle123456\")"
   ],
   "metadata": {
    "collapsed": false
   }
  },
  {
   "cell_type": "code",
   "execution_count": 37,
   "outputs": [
    {
     "data": {
      "text/plain": "'kalles konton: [1, 4, 12, 13, 24, 25, 26]'"
     },
     "execution_count": 37,
     "metadata": {},
     "output_type": "execute_result"
    }
   ],
   "source": [
    "bank.get_accounts()"
   ],
   "metadata": {
    "collapsed": false
   }
  },
  {
   "cell_type": "code",
   "execution_count": 38,
   "outputs": [
    {
     "name": "stdout",
     "output_type": "stream",
     "text": [
      "kalle äger konto 1 och har 1000 kr på sitt konto.\n",
      "kalle äger konto 4 och har 15000 kr på sitt konto.\n"
     ]
    }
   ],
   "source": [
    "bank.get_account(1)\n",
    "bank.get_account(4)"
   ],
   "metadata": {
    "collapsed": false
   }
  },
  {
   "cell_type": "code",
   "execution_count": 39,
   "outputs": [
    {
     "name": "stdout",
     "output_type": "stream",
     "text": [
      "1500 kr successfully deposited to account 1.\n",
      "5000 kr successfully deposited to account 4.\n"
     ]
    }
   ],
   "source": [
    "bank.deposit(1, 1500)\n",
    "bank.deposit(4, 5000)"
   ],
   "metadata": {
    "collapsed": false
   }
  },
  {
   "cell_type": "code",
   "execution_count": 40,
   "outputs": [
    {
     "name": "stdout",
     "output_type": "stream",
     "text": [
      "kalle äger konto 1 och har 2500 kr på sitt konto.\n",
      "kalle äger konto 4 och har 20000 kr på sitt konto.\n"
     ]
    }
   ],
   "source": [
    "bank.get_account(1)\n",
    "bank.get_account(4)"
   ],
   "metadata": {
    "collapsed": false
   }
  },
  {
   "cell_type": "code",
   "execution_count": 41,
   "outputs": [
    {
     "name": "stdout",
     "output_type": "stream",
     "text": [
      "1000 kr withdrawed successfully.\n"
     ]
    }
   ],
   "source": [
    "bank.withdraw(1, 1000)"
   ],
   "metadata": {
    "collapsed": false
   }
  },
  {
   "cell_type": "code",
   "execution_count": 42,
   "outputs": [
    {
     "name": "stdout",
     "output_type": "stream",
     "text": [
      "kalle äger konto 1 och har 1500 kr på sitt konto.\n"
     ]
    }
   ],
   "source": [
    "bank.get_account(1)"
   ],
   "metadata": {
    "collapsed": false
   }
  },
  {
   "cell_type": "code",
   "execution_count": 43,
   "outputs": [
    {
     "name": "stdout",
     "output_type": "stream",
     "text": [
      "Withdrawal to account 3 failed. No such account belongs to you.\n"
     ]
    }
   ],
   "source": [
    "bank.withdraw(3, 2500) # Funkar inte att ta ut från ett konto man inte äger!"
   ],
   "metadata": {
    "collapsed": false
   }
  },
  {
   "cell_type": "code",
   "execution_count": 44,
   "outputs": [
    {
     "name": "stdout",
     "output_type": "stream",
     "text": [
      "1500 kr withdrawed successfully.\n"
     ]
    }
   ],
   "source": [
    "bank.withdraw(1, 1500)"
   ],
   "metadata": {
    "collapsed": false
   }
  },
  {
   "cell_type": "code",
   "execution_count": 45,
   "outputs": [
    {
     "name": "stdout",
     "output_type": "stream",
     "text": [
      "kalle äger konto 1 och har 0 kr på sitt konto.\n"
     ]
    }
   ],
   "source": [
    "bank.get_account(1)"
   ],
   "metadata": {
    "collapsed": false
   }
  },
  {
   "cell_type": "code",
   "execution_count": 46,
   "outputs": [
    {
     "name": "stdout",
     "output_type": "stream",
     "text": [
      "Withdrawal failed. Insufficient balance.\n"
     ]
    }
   ],
   "source": [
    "bank.withdraw(1, 1) # Man måste ha pengar på kontot."
   ],
   "metadata": {
    "collapsed": false
   }
  },
  {
   "cell_type": "code",
   "execution_count": 47,
   "outputs": [
    {
     "name": "stdout",
     "output_type": "stream",
     "text": [
      "Amount needs to be greater than 0\n",
      "Amount needs to be greater than 0\n"
     ]
    }
   ],
   "source": [
    "bank.withdraw(1, -1) # Kan inte ta ut minus\n",
    "bank.deposit(1, -1000) # Kan inte sätta in minus"
   ],
   "metadata": {
    "collapsed": false
   }
  },
  {
   "cell_type": "markdown",
   "source": [
    "### Man kan ha olika banker"
   ],
   "metadata": {
    "collapsed": false
   }
  },
  {
   "cell_type": "code",
   "execution_count": 48,
   "outputs": [
    {
     "name": "stdout",
     "output_type": "stream",
     "text": [
      "Kunder i bank: [kalle, lasse, olaus, coolguy57, ola, tor]\n",
      "Kunder i bank1: [Kimpa, Kim]\n"
     ]
    }
   ],
   "source": [
    "from Bank import Bank\n",
    "\n",
    "bank1 = Bank(repopulate_from=\"bank1.json\")\n",
    "\n",
    "print(f\"Kunder i bank: {bank.get_customers()}\")\n",
    "print(f\"Kunder i bank1: {bank1.get_customers()}\")"
   ],
   "metadata": {
    "collapsed": false
   }
  },
  {
   "cell_type": "code",
   "execution_count": 49,
   "outputs": [
    {
     "name": "stdout",
     "output_type": "stream",
     "text": [
      "kalle finns inte i bank1:\n",
      "No such username: kalle\n",
      "Men han finns i bank:\n",
      "kalle\n"
     ]
    }
   ],
   "source": [
    "print(f\"{bank.get_customer('kalle', return_customer=True)} finns inte i bank1:\")\n",
    "bank1.get_customer(\"kalle\", return_customer=True)\n",
    "print(\"Men han finns i bank:\")\n",
    "print(bank.get_customer(\"kalle\", return_customer=True))"
   ],
   "metadata": {
    "collapsed": false
   }
  },
  {
   "cell_type": "code",
   "execution_count": 50,
   "outputs": [
    {
     "name": "stdout",
     "output_type": "stream",
     "text": [
      "Customer successfully added.\n",
      "Customer successfully added.\n",
      "Kunder i bank: [kalle, lasse, olaus, coolguy57, ola, tor, banana52]\n",
      "Kunder i bank1: [Kimpa, Kim, crusader96]\n"
     ]
    }
   ],
   "source": [
    "bank.add_customer(\"banana52\", \"kalashnikov666\")\n",
    "bank1.add_customer(\"crusader96\", \"1234\")\n",
    "print(f\"Kunder i bank: {bank.get_customers()}\")\n",
    "print(f\"Kunder i bank1: {bank1.get_customers()}\")"
   ],
   "metadata": {
    "collapsed": false
   }
  },
  {
   "cell_type": "code",
   "execution_count": 51,
   "outputs": [
    {
     "name": "stdout",
     "output_type": "stream",
     "text": [
      "No such username: kalle\n"
     ]
    }
   ],
   "source": [
    "bank1.login(\"kalle\", \"kalle123\") # Kalle finns inte i bank1"
   ],
   "metadata": {
    "collapsed": false
   }
  },
  {
   "cell_type": "code",
   "execution_count": 52,
   "outputs": [
    {
     "name": "stdout",
     "output_type": "stream",
     "text": [
      "Login successful.\n"
     ]
    }
   ],
   "source": [
    "bank1.login(\"Kim\", \"1234\") # Men det gör Kim"
   ],
   "metadata": {
    "collapsed": false
   }
  },
  {
   "cell_type": "code",
   "execution_count": 53,
   "outputs": [
    {
     "name": "stdout",
     "output_type": "stream",
     "text": [
      "Inloggad kund i bank: {'logged_in_customer': 'kalle'}\n",
      "Inloggad kund i bank1: {'logged_in_customer': 'Kim'}\n"
     ]
    }
   ],
   "source": [
    "print(f\"Inloggad kund i bank: {bank.logged_in_customer}\")\n",
    "print(f\"Inloggad kund i bank1: {bank1.logged_in_customer}\")"
   ],
   "metadata": {
    "collapsed": false
   }
  },
  {
   "cell_type": "code",
   "execution_count": 54,
   "outputs": [
    {
     "name": "stdout",
     "output_type": "stream",
     "text": [
      "Could not get account 1. No such account belongs to you.\n"
     ]
    }
   ],
   "source": [
    "bank1.get_account(1) # Konto 1 finns inte i bank 1 och kan inte tillhöra inloggad kund i bank1"
   ],
   "metadata": {
    "collapsed": false
   }
  },
  {
   "cell_type": "code",
   "execution_count": 55,
   "outputs": [
    {
     "name": "stdout",
     "output_type": "stream",
     "text": [
      "Logout successful\n"
     ]
    }
   ],
   "source": [
    "bank.logout()"
   ],
   "metadata": {
    "collapsed": false
   }
  },
  {
   "cell_type": "code",
   "execution_count": 56,
   "outputs": [
    {
     "name": "stdout",
     "output_type": "stream",
     "text": [
      "Inloggad kund i bank: {}\n",
      "Inloggad kund i bank1: {'logged_in_customer': 'Kim'}\n"
     ]
    }
   ],
   "source": [
    "print(f\"Inloggad kund i bank: {bank.logged_in_customer}\")\n",
    "print(f\"Inloggad kund i bank1: {bank1.logged_in_customer}\")"
   ],
   "metadata": {
    "collapsed": false
   }
  },
  {
   "cell_type": "code",
   "execution_count": 57,
   "outputs": [
    {
     "name": "stdout",
     "output_type": "stream",
     "text": [
      "Logout successful\n"
     ]
    }
   ],
   "source": [
    "bank1.logout()"
   ],
   "metadata": {
    "collapsed": false
   }
  },
  {
   "cell_type": "code",
   "execution_count": 58,
   "outputs": [
    {
     "name": "stdout",
     "output_type": "stream",
     "text": [
      "Inloggad kund i bank: {}\n",
      "Inloggad kund i bank1: {}\n"
     ]
    }
   ],
   "source": [
    "print(f\"Inloggad kund i bank: {bank.logged_in_customer}\")\n",
    "print(f\"Inloggad kund i bank1: {bank1.logged_in_customer}\")"
   ],
   "metadata": {
    "collapsed": false
   }
  },
  {
   "cell_type": "code",
   "execution_count": 59,
   "outputs": [
    {
     "name": "stdout",
     "output_type": "stream",
     "text": [
      "Kunder i bank: [kalle, lasse, olaus, coolguy57, ola, tor, banana52]\n",
      "Kunder i bank1: [Kimpa, Kim, crusader96]\n"
     ]
    }
   ],
   "source": [
    "print(f\"Kunder i bank: {bank.get_customers()}\")\n",
    "print(f\"Kunder i bank1: {bank1.get_customers()}\")"
   ],
   "metadata": {
    "collapsed": false
   }
  },
  {
   "cell_type": "code",
   "execution_count": 60,
   "outputs": [
    {
     "name": "stdout",
     "output_type": "stream",
     "text": [
      "Username changed successfully.\n",
      "Failed to change username. Name is already taken.\n"
     ]
    }
   ],
   "source": [
    "bank.change_customer_username(\"tor\", \"tor123\")\n",
    "bank1.change_customer_username(\"Kim\", \"Kimpa\") # Namnet är redan upptaget."
   ],
   "metadata": {
    "collapsed": false
   }
  },
  {
   "cell_type": "code",
   "execution_count": 61,
   "outputs": [
    {
     "name": "stdout",
     "output_type": "stream",
     "text": [
      "Kunder i bank: [kalle, lasse, olaus, coolguy57, ola, tor123, banana52]\n",
      "Kunder i bank1: [Kimpa, Kim, crusader96]\n"
     ]
    }
   ],
   "source": [
    "print(f\"Kunder i bank: {bank.get_customers()}\")\n",
    "print(f\"Kunder i bank1: {bank1.get_customers()}\")"
   ],
   "metadata": {
    "collapsed": false
   }
  },
  {
   "cell_type": "code",
   "execution_count": 62,
   "outputs": [
    {
     "name": "stdout",
     "output_type": "stream",
     "text": [
      "Account successfully added.\n"
     ]
    },
    {
     "data": {
      "text/plain": "'olauss konton: [9, 15, 29]'"
     },
     "execution_count": 62,
     "metadata": {},
     "output_type": "execute_result"
    }
   ],
   "source": [
    "bank.add_account(\"olaus\")\n",
    "bank.get_accounts(\"olaus\")"
   ],
   "metadata": {
    "collapsed": false
   }
  },
  {
   "cell_type": "code",
   "execution_count": 63,
   "outputs": [
    {
     "name": "stdout",
     "output_type": "stream",
     "text": [
      "Account 1 does not exist in this bank.\n"
     ]
    }
   ],
   "source": [
    "bank1.change_owner_of(1, \"Kimpa\") # Konto 1 finns inte i bank1."
   ],
   "metadata": {
    "collapsed": false
   }
  },
  {
   "cell_type": "code",
   "execution_count": 64,
   "outputs": [
    {
     "name": "stdout",
     "output_type": "stream",
     "text": [
      "Login successful.\n",
      "Deposit to account 1 failed. No such account belongs to you.\n"
     ]
    }
   ],
   "source": [
    "bank1.login(\"Kimpa\", \"1234\")\n",
    "bank1.deposit(1, 1000) # Konto 1 finns inte i bank 1 och kan inte tillhöra inloggad kund i bank1"
   ],
   "metadata": {
    "collapsed": false
   }
  },
  {
   "cell_type": "code",
   "execution_count": 65,
   "outputs": [
    {
     "name": "stdout",
     "output_type": "stream",
     "text": [
      "[23, 24]\n",
      "Kimpas konton: [23, 24]\n"
     ]
    }
   ],
   "source": [
    "print(bank1.accounts_list())\n",
    "print(bank1.get_accounts())"
   ],
   "metadata": {
    "collapsed": false
   }
  },
  {
   "cell_type": "code",
   "execution_count": 66,
   "outputs": [
    {
     "name": "stdout",
     "output_type": "stream",
     "text": [
      "Account successfully added.\n"
     ]
    }
   ],
   "source": [
    "bank1.add_account()"
   ],
   "metadata": {
    "collapsed": false
   }
  },
  {
   "cell_type": "code",
   "execution_count": 67,
   "outputs": [
    {
     "name": "stdout",
     "output_type": "stream",
     "text": [
      "[1, 2, 3, 4, 5, 6, 8, 9, 11, 12, 13, 14, 15, 24, 25, 26, 28, 29]\n",
      "[23, 24, 30]\n"
     ]
    },
    {
     "data": {
      "text/plain": "'Kimpas konton: [23, 24, 30]'"
     },
     "execution_count": 67,
     "metadata": {},
     "output_type": "execute_result"
    }
   ],
   "source": [
    "print(bank.accounts_list())\n",
    "print(bank1.accounts_list())\n",
    "bank1.get_accounts()"
   ],
   "metadata": {
    "collapsed": false
   }
  },
  {
   "cell_type": "markdown",
   "source": [
    "### Spara data till fil"
   ],
   "metadata": {
    "collapsed": false
   }
  },
  {
   "cell_type": "code",
   "execution_count": 68,
   "outputs": [],
   "source": [
    "bank_list = bank.serialize()\n",
    "bank_list1 = bank1.serialize()"
   ],
   "metadata": {
    "collapsed": false
   }
  },
  {
   "cell_type": "code",
   "execution_count": 69,
   "outputs": [],
   "source": [
    "bank_to_json = json.dumps(bank_list, indent=4, default=str)\n",
    "bank1_to_json = json.dumps(bank_list1, indent=4, default=str)"
   ],
   "metadata": {
    "collapsed": false
   }
  },
  {
   "cell_type": "code",
   "execution_count": 70,
   "outputs": [],
   "source": [
    "with open (\"bank.json\", \"w\") as f:\n",
    "    f.write(bank_to_json)\n",
    "with open (\"bank1.json\", \"w\") as f:\n",
    "    f.write(bank1_to_json)"
   ],
   "metadata": {
    "collapsed": false
   }
  }
 ],
 "metadata": {
  "kernelspec": {
   "display_name": "Python 3",
   "language": "python",
   "name": "python3"
  },
  "language_info": {
   "codemirror_mode": {
    "name": "ipython",
    "version": 2
   },
   "file_extension": ".py",
   "mimetype": "text/x-python",
   "name": "python",
   "nbconvert_exporter": "python",
   "pygments_lexer": "ipython2",
   "version": "2.7.6"
  }
 },
 "nbformat": 4,
 "nbformat_minor": 0
}
